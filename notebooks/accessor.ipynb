{
 "cells": [
  {
   "cell_type": "code",
   "execution_count": 1,
   "id": "9a9e912f-d0e2-4a5c-8e60-505349830ec7",
   "metadata": {},
   "outputs": [],
   "source": [
    "%load_ext autoreload\n",
    "%autoreload 2"
   ]
  },
  {
   "cell_type": "code",
   "execution_count": 2,
   "id": "47c50101-149a-40ba-9d8d-30ecb157a081",
   "metadata": {},
   "outputs": [
    {
     "name": "stderr",
     "output_type": "stream",
     "text": [
      "/tmp/ipykernel_3514/1177998677.py:1: DeprecationWarning: \n",
      "Pyarrow will become a required dependency of pandas in the next major release of pandas (pandas 3.0),\n",
      "(to allow more performant data types, such as the Arrow string type, and better interoperability with other libraries)\n",
      "but was not found to be installed on your system.\n",
      "If this would cause problems for you,\n",
      "please provide us feedback at https://github.com/pandas-dev/pandas/issues/54466\n",
      "        \n",
      "  import pandas as pd\n"
     ]
    }
   ],
   "source": [
    "import pandas as pd\n",
    "import json"
   ]
  },
  {
   "cell_type": "code",
   "execution_count": 3,
   "id": "e47324d0-e3b1-441a-b32c-47ab7c066017",
   "metadata": {},
   "outputs": [],
   "source": [
    "df = pd.read_csv(\"../data/german_cities.csv\", delimiter=\"\\t\")"
   ]
  },
  {
   "cell_type": "code",
   "execution_count": 4,
   "id": "5e8101b7-13e1-4dc3-9905-5f82c56fa462",
   "metadata": {},
   "outputs": [
    {
     "data": {
      "text/html": [
       "<div>\n",
       "<style scoped>\n",
       "    .dataframe tbody tr th:only-of-type {\n",
       "        vertical-align: middle;\n",
       "    }\n",
       "\n",
       "    .dataframe tbody tr th {\n",
       "        vertical-align: top;\n",
       "    }\n",
       "\n",
       "    .dataframe thead th {\n",
       "        text-align: right;\n",
       "    }\n",
       "</style>\n",
       "<table border=\"1\" class=\"dataframe\">\n",
       "  <thead>\n",
       "    <tr style=\"text-align: right;\">\n",
       "      <th></th>\n",
       "      <th>City</th>\n",
       "      <th>Population [10^6]</th>\n",
       "      <th>Area [km^2]</th>\n",
       "      <th>Postal Code</th>\n",
       "    </tr>\n",
       "  </thead>\n",
       "  <tbody>\n",
       "    <tr>\n",
       "      <th>0</th>\n",
       "      <td>Berlin</td>\n",
       "      <td>3,664</td>\n",
       "      <td>891,85</td>\n",
       "      <td>10115</td>\n",
       "    </tr>\n",
       "    <tr>\n",
       "      <th>1</th>\n",
       "      <td>Hamburg</td>\n",
       "      <td>1,899</td>\n",
       "      <td>755,16</td>\n",
       "      <td>20095</td>\n",
       "    </tr>\n",
       "    <tr>\n",
       "      <th>2</th>\n",
       "      <td>Frankfurt</td>\n",
       "      <td>0,732</td>\n",
       "      <td>248,31</td>\n",
       "      <td>60306</td>\n",
       "    </tr>\n",
       "    <tr>\n",
       "      <th>3</th>\n",
       "      <td>Dresden</td>\n",
       "      <td>0,549</td>\n",
       "      <td>328,31</td>\n",
       "      <td>1067</td>\n",
       "    </tr>\n",
       "    <tr>\n",
       "      <th>4</th>\n",
       "      <td>Aachen</td>\n",
       "      <td>0,246</td>\n",
       "      <td>160,85</td>\n",
       "      <td>52062</td>\n",
       "    </tr>\n",
       "  </tbody>\n",
       "</table>\n",
       "</div>"
      ],
      "text/plain": [
       "        City Population [10^6] Area [km^2]  Postal Code\n",
       "0     Berlin             3,664      891,85        10115\n",
       "1    Hamburg             1,899      755,16        20095\n",
       "2  Frankfurt             0,732      248,31        60306\n",
       "3    Dresden             0,549      328,31         1067\n",
       "4     Aachen             0,246      160,85        52062"
      ]
     },
     "execution_count": 4,
     "metadata": {},
     "output_type": "execute_result"
    }
   ],
   "source": [
    "df"
   ]
  },
  {
   "cell_type": "code",
   "execution_count": 5,
   "id": "d6fd3535-d1fb-4971-a825-987c63b79afc",
   "metadata": {},
   "outputs": [],
   "source": [
    "with open(\"../data/german_cities.csv-metadata.json\") as fobj:\n",
    "    meta = json.load(fobj)"
   ]
  },
  {
   "cell_type": "code",
   "execution_count": 6,
   "id": "42f6b437-8d1f-4ab0-8770-e7fb0ed19c00",
   "metadata": {},
   "outputs": [
    {
     "data": {
      "text/plain": [
       "{'@context': 'http://www.w3.org/ns/csvw',\n",
       " 'url': 'german_cities.csv',\n",
       " 'dc:title': 'Selection of German Cities',\n",
       " 'dc:description': 'Example table for a workshop',\n",
       " 'dialect': {'delimiter': '\\t'},\n",
       " 'tableSchema': {'columns': [{'titles': 'City', 'datatype': 'string'},\n",
       "   {'titles': 'Population [10^6]',\n",
       "    'dc:description': 'Population in millions',\n",
       "    'datatype': {'base': 'decimal', 'format': {'decimalChar': ','}}},\n",
       "   {'titles': 'Area [km^2]',\n",
       "    'dc:description': 'Area in square kilometers',\n",
       "    'datatype': {'base': 'decimal', 'format': {'decimalChar': ','}},\n",
       "    '<http://purl.org/linked-data/sdmx/2009/attribute#unitMeasure>': {'@id': '<http://qudt.org/vocab/unit/KiloM2>'}},\n",
       "   {'titles': 'Postal Code', 'datatype': 'string'}]}}"
      ]
     },
     "execution_count": 6,
     "metadata": {},
     "output_type": "execute_result"
    }
   ],
   "source": [
    "meta"
   ]
  },
  {
   "cell_type": "code",
   "execution_count": 7,
   "id": "6550af6d-a335-4cc6-867f-09d4ce82710c",
   "metadata": {},
   "outputs": [],
   "source": [
    "df.attrs = meta"
   ]
  },
  {
   "cell_type": "code",
   "execution_count": 8,
   "id": "448fafde-c67d-42c7-8f5f-9d5d4fa5350d",
   "metadata": {},
   "outputs": [],
   "source": [
    "import sys"
   ]
  },
  {
   "cell_type": "code",
   "execution_count": 9,
   "id": "2bb46229-a577-4a4c-a2ad-4063e837de28",
   "metadata": {},
   "outputs": [],
   "source": [
    "sys.path.append(\"../python/\")"
   ]
  },
  {
   "cell_type": "code",
   "execution_count": 10,
   "id": "052a2bd2-bf7e-467d-bcf6-24d95ea76008",
   "metadata": {},
   "outputs": [],
   "source": [
    "from write_accessor import CSVWDataFrameAccessor"
   ]
  },
  {
   "cell_type": "code",
   "execution_count": 11,
   "id": "11f67c0e-bf19-4422-8cda-294af58d5e8e",
   "metadata": {},
   "outputs": [],
   "source": [
    "df.csvw.write(\"test.csv\")"
   ]
  },
  {
   "cell_type": "code",
   "execution_count": 8,
   "id": "bc0758c2-1ce1-4c13-83e5-e81d0a31e265",
   "metadata": {},
   "outputs": [
    {
     "data": {
      "text/plain": [
       "{'@context': 'http://www.w3.org/ns/csvw',\n",
       " 'url': 'german_cities.csv',\n",
       " 'dc:title': 'Selection of German Cities',\n",
       " 'dc:description': 'Example table for a workshop',\n",
       " 'dialect': {'delimiter': '\\t'},\n",
       " 'tableSchema': {'columns': [{'titles': 'City', 'datatype': 'string'},\n",
       "   {'titles': 'Population [10^6]',\n",
       "    'dc:description': 'Population in millions',\n",
       "    'datatype': {'base': 'decimal', 'format': {'decimalChar': ','}}},\n",
       "   {'titles': 'Area [km^2]',\n",
       "    'dc:description': 'Area in square kilometers',\n",
       "    'datatype': {'base': 'decimal', 'format': {'decimalChar': ','}},\n",
       "    '<http://purl.org/linked-data/sdmx/2009/attribute#unitMeasure>': {'@id': '<http://qudt.org/vocab/unit/KiloM2>'}},\n",
       "   {'titles': 'Postal Code', 'datatype': 'string'}]}}"
      ]
     },
     "execution_count": 8,
     "metadata": {},
     "output_type": "execute_result"
    }
   ],
   "source": []
  },
  {
   "cell_type": "code",
   "execution_count": null,
   "id": "0186d88c-3fd3-48e9-a264-05f207e2fdf8",
   "metadata": {},
   "outputs": [],
   "source": []
  }
 ],
 "metadata": {
  "kernelspec": {
   "display_name": "Python (data-analysis)",
   "language": "python",
   "name": "data-analysis"
  },
  "language_info": {
   "codemirror_mode": {
    "name": "ipython",
    "version": 3
   },
   "file_extension": ".py",
   "mimetype": "text/x-python",
   "name": "python",
   "nbconvert_exporter": "python",
   "pygments_lexer": "ipython3",
   "version": "3.11.8"
  }
 },
 "nbformat": 4,
 "nbformat_minor": 5
}
